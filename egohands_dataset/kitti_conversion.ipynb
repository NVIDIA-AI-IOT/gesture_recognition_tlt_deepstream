{
 "cells": [
  {
   "cell_type": "markdown",
   "metadata": {},
   "source": [
    "# EgoHands to kitti conversion"
   ]
  },
  {
   "cell_type": "markdown",
   "metadata": {},
   "source": [
    "Initialize dataset paths by changing the following vars in prepare_egohands.py\n",
    "\n",
    "```\n",
    "EGOHANDS_DATASET_URL = 'http://vision.soic.indiana.edu/egohands_files/egohands_data.zip'\n",
    "EGOHANDS_DIR = '/home/USER_NAME/DATASETS/EgoHands'\n",
    "EGOHANDS_DATA_DIR = '/home/USER_NAME/DATASETS/EgoHands/_LABELLED_SAMPLES'\n",
    "CONVERTED_DIR = '/home/USER_NAME/DATASETS/EgoHands/egohands_kitti_formatted'\n",
    "CONVERTED_IMG_DIR = '/home/USER_NAME/DATASETS/EgoHands/egohands_kitti_formatted/images'\n",
    "CONVERTED_LBL_DIR = '/home/USER_NAME/DATASETS/EgoHands/egohands_kitti_formatted/labels'\n",
    "```"
   ]
  },
  {
   "cell_type": "markdown",
   "metadata": {},
   "source": [
    "Convert the dataset. Set `--download True` if the set to be downloaded first. Set `--download False` if you already downloaded and unzipped the dataset."
   ]
  },
  {
   "cell_type": "code",
   "execution_count": null,
   "metadata": {},
   "outputs": [],
   "source": [
    "!python prepare_egohands.py"
   ]
  },
  {
   "cell_type": "markdown",
   "metadata": {},
   "source": [
    "## Split data in training and testing"
   ]
  },
  {
   "cell_type": "markdown",
   "metadata": {},
   "source": [
    "Verify"
   ]
  },
  {
   "cell_type": "code",
   "execution_count": null,
   "metadata": {},
   "outputs": [],
   "source": [
    "import os\n",
    "\n",
    "DATA_DIR = '/home/USER_NAME/DATASETS/EgoHands/egohands_kitti_formatted/training/'\n",
    "TRAIN_IMG_DIR = os.path.join(DATA_DIR, \"images\")\n",
    "TRAIN_LBL_DIR = os.path.join(DATA_DIR, \"labels\")\n",
    "train_imgs = os.listdir(TRAIN_IMG_DIR)\n",
    "train_imgs.sort()\n",
    "num_images = len(train_imgs)\n",
    "train_lbls = os.listdir(TRAIN_LBL_DIR)\n",
    "train_lbls.sort()\n",
    "num_labels = len(train_lbls)\n",
    "print(\"Number of images {}.\".format(num_images))\n",
    "print(\"Number of labels {}.\".format(num_labels))"
   ]
  },
  {
   "cell_type": "code",
   "execution_count": null,
   "metadata": {},
   "outputs": [],
   "source": [
    "TEST_DIR = '/home/USER_NAME/DATASETS/EgoHands/egohands_kitti_formatted/testing'\n",
    "DEST_TST_IMG = '/home/USER_NAME/DATASETS/EgoHands/egohands_kitti_formatted/testing/images'\n",
    "DEST_TST_LBL = '/home/USER_NAME/DATASETS/EgoHands/egohands_kitti_formatted/testing/labels'"
   ]
  },
  {
   "cell_type": "code",
   "execution_count": null,
   "metadata": {},
   "outputs": [],
   "source": [
    "!mkdir $TEST_DIR\n",
    "!mkdir $DEST_TST_IMG\n",
    "!mkdir $DEST_TST_LBL"
   ]
  },
  {
   "cell_type": "markdown",
   "metadata": {},
   "source": [
    "Set the number of images which should be used for testing."
   ]
  },
  {
   "cell_type": "code",
   "execution_count": null,
   "metadata": {},
   "outputs": [],
   "source": [
    "TEST_NUMBER = 480"
   ]
  },
  {
   "cell_type": "markdown",
   "metadata": {},
   "source": [
    "Generate an array of random images which will be used for testing."
   ]
  },
  {
   "cell_type": "code",
   "execution_count": null,
   "metadata": {},
   "outputs": [],
   "source": [
    "import numpy as np\n",
    "\n",
    "test_idx = np.sort(np.random.choice(range(0, num_images-1), TEST_NUMBER, replace=False)).tolist()"
   ]
  },
  {
   "cell_type": "markdown",
   "metadata": {},
   "source": [
    "Move the images and labels on these random positions to the testing directory."
   ]
  },
  {
   "cell_type": "code",
   "execution_count": null,
   "metadata": {},
   "outputs": [],
   "source": [
    "import shutil\n",
    "\n",
    "for idx in test_idx:\n",
    "    shutil.move(os.path.join(TRAIN_IMG_DIR, train_imgs[idx]), DEST_TST_IMG)\n",
    "    shutil.move(os.path.join(TRAIN_LBL_DIR, train_lbls[idx]), DEST_TST_LBL)"
   ]
  },
  {
   "cell_type": "code",
   "execution_count": null,
   "metadata": {},
   "outputs": [],
   "source": []
  }
 ],
 "metadata": {
  "kernelspec": {
   "display_name": "Python 3",
   "language": "python",
   "name": "python3"
  },
  "language_info": {
   "codemirror_mode": {
    "name": "ipython",
    "version": 3
   },
   "file_extension": ".py",
   "mimetype": "text/x-python",
   "name": "python",
   "nbconvert_exporter": "python",
   "pygments_lexer": "ipython3",
   "version": "3.6.9"
  }
 },
 "nbformat": 4,
 "nbformat_minor": 4
}
